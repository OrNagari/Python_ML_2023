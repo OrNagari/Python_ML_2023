{
 "cells": [
  {
   "cell_type": "markdown",
   "metadata": {},
   "source": [
    "# Wines Points prediction "
   ]
  },
  {
   "cell_type": "code",
   "execution_count": null,
   "metadata": {},
   "outputs": [],
   "source": []
  },
  {
   "cell_type": "code",
   "execution_count": 2,
   "metadata": {
    "scrolled": true,
    "tags": []
   },
   "outputs": [],
   "source": [
    "%load_ext autoreload\n",
    "%autoreload 2\n",
    "import sys; sys.path.append('../')"
   ]
  },
  {
   "cell_type": "code",
   "execution_count": 3,
   "metadata": {},
   "outputs": [],
   "source": [
    "#pip install countryinfo"
   ]
  },
  {
   "cell_type": "code",
   "execution_count": 4,
   "metadata": {},
   "outputs": [],
   "source": [
    "#pip install forex_python"
   ]
  },
  {
   "cell_type": "code",
   "execution_count": 5,
   "metadata": {},
   "outputs": [
    {
     "data": {
      "text/html": [
       "        <script type=\"text/javascript\">\n",
       "        window.PlotlyConfig = {MathJaxConfig: 'local'};\n",
       "        if (window.MathJax && window.MathJax.Hub && window.MathJax.Hub.Config) {window.MathJax.Hub.Config({SVG: {font: \"STIX-Web\"}});}\n",
       "        if (typeof require !== 'undefined') {\n",
       "        require.undef(\"plotly\");\n",
       "        requirejs.config({\n",
       "            paths: {\n",
       "                'plotly': ['https://cdn.plot.ly/plotly-2.12.1.min']\n",
       "            }\n",
       "        });\n",
       "        require(['plotly'], function(Plotly) {\n",
       "            window._Plotly = Plotly;\n",
       "        });\n",
       "        }\n",
       "        </script>\n",
       "        "
      ]
     },
     "metadata": {},
     "output_type": "display_data"
    },
    {
     "name": "stderr",
     "output_type": "stream",
     "text": [
      "[nltk_data] Downloading package stopwords to\n",
      "[nltk_data]     C:\\Users\\or.nagari\\AppData\\Roaming\\nltk_data...\n",
      "[nltk_data]   Package stopwords is already up-to-date!\n",
      "[nltk_data] Downloading package punkt to\n",
      "[nltk_data]     C:\\Users\\or.nagari\\AppData\\Roaming\\nltk_data...\n",
      "[nltk_data]   Package punkt is already up-to-date!\n"
     ]
    },
    {
     "data": {
      "text/plain": [
       "True"
      ]
     },
     "execution_count": 5,
     "metadata": {},
     "output_type": "execute_result"
    }
   ],
   "source": [
    "import pandas as pd\n",
    "import cufflinks as cf; cf.go_offline()\n",
    "import seaborn as sns\n",
    "import matplotlib.pyplot as plt\n",
    "import plotly.express as px\n",
    "%matplotlib inline\n",
    "import re\n",
    "import numpy as np\n",
    "import string\n",
    "import emoji\n",
    "import re as regex\n",
    "import nltk\n",
    "from sklearn.metrics import mean_absolute_error, mean_squared_error, r2_score\n",
    "import pandas as pd\n",
    "from sklearn.model_selection import train_test_split\n",
    "from sklearn.metrics import mean_squared_error\n",
    "from sklearn.linear_model import LinearRegression\n",
    "nltk.download('stopwords')\n",
    "nltk.download('punkt')"
   ]
  },
  {
   "cell_type": "markdown",
   "metadata": {},
   "source": [
    "Here we will try to predict the points a wine will get based on known characteristics (i.e. features, in the ML terminology). The mine point in this stage is to establish a simple, ideally super cost effective, basline.\n",
    "In the real world there is a tradeoff between complexity and perforamnce, and the DS job, among others, is to present a tradeoff tables of what performance is achivalbel at what complexity level. \n",
    "\n",
    "to which models with increased complexity and resource demands will be compared. Complexity should then be translated into cost. For example:\n",
    " * Compute cost \n",
    " * Maintenance cost\n",
    " * Serving costs (i.e. is new platform needed?) \n",
    " "
   ]
  },
  {
   "cell_type": "markdown",
   "metadata": {},
   "source": [
    "## Loading the data"
   ]
  },
  {
   "cell_type": "code",
   "execution_count": 6,
   "metadata": {},
   "outputs": [],
   "source": [
    "import warnings\n",
    "warnings.filterwarnings('ignore')"
   ]
  },
  {
   "cell_type": "code",
   "execution_count": 7,
   "metadata": {},
   "outputs": [
    {
     "data": {
      "text/plain": [
       "(119677, 10)"
      ]
     },
     "execution_count": 7,
     "metadata": {},
     "output_type": "execute_result"
    }
   ],
   "source": [
    "wine_reviews_analysis = pd.read_csv(\"C:/Users/or.nagari/Python_ML_2023/Exercises/Final Project/wine_reviews_analysis.csv\")\n",
    "wine_reviews_analysis.rename({'Unnamed: 0':'id'}, axis=1,inplace=True)\n",
    "wine_reviews_analysis.shape"
   ]
  },
  {
   "cell_type": "code",
   "execution_count": 8,
   "metadata": {},
   "outputs": [],
   "source": [
    "#pd.set_option('display.max_colwidth', 300)"
   ]
  },
  {
   "cell_type": "code",
   "execution_count": null,
   "metadata": {},
   "outputs": [],
   "source": []
  },
  {
   "cell_type": "code",
   "execution_count": null,
   "metadata": {},
   "outputs": [],
   "source": []
  },
  {
   "cell_type": "code",
   "execution_count": null,
   "metadata": {},
   "outputs": [],
   "source": []
  },
  {
   "cell_type": "code",
   "execution_count": null,
   "metadata": {},
   "outputs": [],
   "source": []
  },
  {
   "cell_type": "code",
   "execution_count": null,
   "metadata": {},
   "outputs": [],
   "source": []
  },
  {
   "cell_type": "code",
   "execution_count": 9,
   "metadata": {},
   "outputs": [
    {
     "data": {
      "text/plain": [
       "((95742, 10), (23935, 10))"
      ]
     },
     "execution_count": 9,
     "metadata": {},
     "output_type": "execute_result"
    }
   ],
   "source": [
    "\n",
    "target = 'points'\n",
    "test_df, train_df = train_test_split(wine_reviews_analysis, test_size=0.8, random_state=42)\n",
    "train_df.dropna(axis=0, inplace=True)\n",
    "test_df.dropna(axis=0, inplace=True)\n",
    "\n",
    "train_df.shape, test_df.shape"
   ]
  },
  {
   "cell_type": "code",
   "execution_count": 10,
   "metadata": {},
   "outputs": [
    {
     "data": {
      "text/html": [
       "<div>\n",
       "<style scoped>\n",
       "    .dataframe tbody tr th:only-of-type {\n",
       "        vertical-align: middle;\n",
       "    }\n",
       "\n",
       "    .dataframe tbody tr th {\n",
       "        vertical-align: top;\n",
       "    }\n",
       "\n",
       "    .dataframe thead th {\n",
       "        text-align: right;\n",
       "    }\n",
       "</style>\n",
       "<table border=\"1\" class=\"dataframe\">\n",
       "  <thead>\n",
       "    <tr style=\"text-align: right;\">\n",
       "      <th></th>\n",
       "      <th>country</th>\n",
       "      <th>price</th>\n",
       "      <th>taster_name</th>\n",
       "      <th>province</th>\n",
       "      <th>region_1</th>\n",
       "      <th>year</th>\n",
       "      <th>winery</th>\n",
       "      <th>cleaned_descriptions</th>\n",
       "      <th>variety</th>\n",
       "    </tr>\n",
       "  </thead>\n",
       "  <tbody>\n",
       "    <tr>\n",
       "      <th>94591</th>\n",
       "      <td>France</td>\n",
       "      <td>18.0</td>\n",
       "      <td>Roger Voss</td>\n",
       "      <td>Loire Valley</td>\n",
       "      <td>Coteaux du Giennois</td>\n",
       "      <td>2014</td>\n",
       "      <td>Domaine de Villargeau</td>\n",
       "      <td>herbal cool wine Concentrated citrus flavors p...</td>\n",
       "      <td>Sauvignon Blanc</td>\n",
       "    </tr>\n",
       "  </tbody>\n",
       "</table>\n",
       "</div>"
      ],
      "text/plain": [
       "      country  price taster_name      province             region_1  year  \\\n",
       "94591  France   18.0  Roger Voss  Loire Valley  Coteaux du Giennois  2014   \n",
       "\n",
       "                      winery  \\\n",
       "94591  Domaine de Villargeau   \n",
       "\n",
       "                                    cleaned_descriptions          variety  \n",
       "94591  herbal cool wine Concentrated citrus flavors p...  Sauvignon Blanc  "
      ]
     },
     "execution_count": 10,
     "metadata": {},
     "output_type": "execute_result"
    }
   ],
   "source": [
    "X_train, y_train = train_df.drop(target, axis=1), train_df[[target]]\n",
    "X_test, y_test = test_df.drop(target, axis=1), test_df[[target]]\n",
    "\n",
    "X_train.head(1)"
   ]
  },
  {
   "cell_type": "markdown",
   "metadata": {},
   "source": [
    "#Baselines"
   ]
  },
  {
   "cell_type": "code",
   "execution_count": null,
   "metadata": {},
   "outputs": [],
   "source": []
  },
  {
   "cell_type": "code",
   "execution_count": 11,
   "metadata": {},
   "outputs": [],
   "source": [
    "# #train and test for baseline\n",
    "train_data = wine_reviews_analysis.sample(frac = 0.8)\n",
    "test_data = wine_reviews_analysis[~wine_reviews_analysis.index.isin(train_data.index)]\n",
    "assert(len(train_data) + len(test_data) == len(wine_reviews_analysis))"
   ]
  },
  {
   "cell_type": "code",
   "execution_count": 12,
   "metadata": {},
   "outputs": [],
   "source": [
    "def calc_prediction_quality(df, pred_score_col, true_score_col):\n",
    "    return pd.Series({'MSE': mean_squared_error(df[true_score_col], df[pred_score_col]),\n",
    "                      'MAE': mean_absolute_error(df[true_score_col], df[pred_score_col]),\n",
    "                      'R2': r2_score(df[true_score_col], df[pred_score_col])})"
   ]
  },
  {
   "cell_type": "raw",
   "metadata": {},
   "source": [
    "#Baselines 1"
   ]
  },
  {
   "cell_type": "code",
   "execution_count": 13,
   "metadata": {},
   "outputs": [
    {
     "data": {
      "text/plain": [
       "MSE    9.554984\n",
       "MAE    2.537486\n",
       "R2    -0.000019\n",
       "dtype: float64"
      ]
     },
     "execution_count": 13,
     "metadata": {},
     "output_type": "execute_result"
    }
   ],
   "source": [
    "test_data['basiline_1_predicted_points'] = train_data.points.mean()\n",
    "b1_stats = calc_prediction_quality(test_data, 'basiline_1_predicted_points', 'points')\n",
    "b1_stats"
   ]
  },
  {
   "cell_type": "raw",
   "metadata": {},
   "source": [
    "Basline 2"
   ]
  },
  {
   "cell_type": "code",
   "execution_count": 14,
   "metadata": {},
   "outputs": [
    {
     "data": {
      "text/plain": [
       "country\n",
       "Argentina    86.688316\n",
       "Australia    88.552961\n",
       "Austria      90.090834\n",
       "Brazil       84.447368\n",
       "Bulgaria     87.913043\n",
       "Name: points, dtype: float64"
      ]
     },
     "execution_count": 14,
     "metadata": {},
     "output_type": "execute_result"
    }
   ],
   "source": [
    "avg_points_by_country = train_data.groupby('country').points.mean()\n",
    "avg_points_by_country.head()"
   ]
  },
  {
   "cell_type": "code",
   "execution_count": 15,
   "metadata": {},
   "outputs": [
    {
     "data": {
      "text/plain": [
       "MSE    9.036182\n",
       "MAE    2.462820\n",
       "R2     0.054279\n",
       "dtype: float64"
      ]
     },
     "execution_count": 15,
     "metadata": {},
     "output_type": "execute_result"
    }
   ],
   "source": [
    "test_data['basiline_2_predicted_points'] = test_data.country.map(avg_points_by_country).fillna(train_data.points.mean())\n",
    "b2_stats = calc_prediction_quality(test_data, 'basiline_2_predicted_points', 'points')\n",
    "b2_stats"
   ]
  },
  {
   "cell_type": "raw",
   "metadata": {},
   "source": [
    "Baseline 3"
   ]
  },
  {
   "cell_type": "code",
   "execution_count": 16,
   "metadata": {},
   "outputs": [
    {
     "data": {
      "text/plain": [
       "country    province        \n",
       "Argentina  Mendoza Province    86.809053\n",
       "           Other               85.960298\n",
       "Australia  Australia Other     85.478261\n",
       "           New South Wales     87.846154\n",
       "           South Australia     89.021804\n",
       "Name: basiline_3_predicted_points, dtype: float64"
      ]
     },
     "execution_count": 16,
     "metadata": {},
     "output_type": "execute_result"
    }
   ],
   "source": [
    "avg_points_by_country_and_region = train_data.groupby(['country','province']).points.mean().rename('basiline_3_predicted_points')\n",
    "avg_points_by_country_and_region.head()"
   ]
  },
  {
   "cell_type": "code",
   "execution_count": 17,
   "metadata": {},
   "outputs": [
    {
     "data": {
      "text/plain": [
       "((23935, 13), (23935, 12))"
      ]
     },
     "execution_count": 17,
     "metadata": {},
     "output_type": "execute_result"
    }
   ],
   "source": [
    "test_data_with_baseline_3 = test_data.merge(avg_points_by_country_and_region, on = ['country','province'], how='left')\n",
    "test_data_with_baseline_3.basiline_3_predicted_points = test_data_with_baseline_3.basiline_3_predicted_points.fillna(test_data_with_baseline_3.basiline_2_predicted_points).fillna(test_data.basiline_1_predicted_points)\n",
    "test_data_with_baseline_3.shape, test_data.shape"
   ]
  },
  {
   "cell_type": "code",
   "execution_count": 18,
   "metadata": {},
   "outputs": [
    {
     "data": {
      "text/plain": [
       "MSE    8.531853\n",
       "MAE    2.375124\n",
       "R2     0.107061\n",
       "dtype: float64"
      ]
     },
     "execution_count": 18,
     "metadata": {},
     "output_type": "execute_result"
    }
   ],
   "source": [
    "b3_stats = calc_prediction_quality(test_data_with_baseline_3, 'basiline_3_predicted_points', 'points')\n",
    "b3_stats"
   ]
  },
  {
   "cell_type": "code",
   "execution_count": 19,
   "metadata": {},
   "outputs": [
    {
     "data": {
      "text/html": [
       "<div>\n",
       "<style scoped>\n",
       "    .dataframe tbody tr th:only-of-type {\n",
       "        vertical-align: middle;\n",
       "    }\n",
       "\n",
       "    .dataframe tbody tr th {\n",
       "        vertical-align: top;\n",
       "    }\n",
       "\n",
       "    .dataframe thead th {\n",
       "        text-align: right;\n",
       "    }\n",
       "</style>\n",
       "<table border=\"1\" class=\"dataframe\">\n",
       "  <thead>\n",
       "    <tr style=\"text-align: right;\">\n",
       "      <th></th>\n",
       "      <th>MSE</th>\n",
       "      <th>MAE</th>\n",
       "      <th>R2</th>\n",
       "    </tr>\n",
       "  </thead>\n",
       "  <tbody>\n",
       "    <tr>\n",
       "      <th>baseline_1</th>\n",
       "      <td>9.554984</td>\n",
       "      <td>2.537486</td>\n",
       "      <td>-0.000019</td>\n",
       "    </tr>\n",
       "    <tr>\n",
       "      <th>baseline_2</th>\n",
       "      <td>9.036182</td>\n",
       "      <td>2.462820</td>\n",
       "      <td>0.054279</td>\n",
       "    </tr>\n",
       "    <tr>\n",
       "      <th>baseline_3</th>\n",
       "      <td>8.531853</td>\n",
       "      <td>2.375124</td>\n",
       "      <td>0.107061</td>\n",
       "    </tr>\n",
       "  </tbody>\n",
       "</table>\n",
       "</div>"
      ],
      "text/plain": [
       "                 MSE       MAE        R2\n",
       "baseline_1  9.554984  2.537486 -0.000019\n",
       "baseline_2  9.036182  2.462820  0.054279\n",
       "baseline_3  8.531853  2.375124  0.107061"
      ]
     },
     "execution_count": 19,
     "metadata": {},
     "output_type": "execute_result"
    }
   ],
   "source": [
    "baseline_summary = pd.DataFrame([b1_stats, b2_stats, b3_stats], index=['baseline_1', 'baseline_2','baseline_3'])\n",
    "baseline_summary"
   ]
  },
  {
   "cell_type": "code",
   "execution_count": 20,
   "metadata": {},
   "outputs": [
    {
     "data": {
      "text/html": [
       "<div>\n",
       "<style scoped>\n",
       "    .dataframe tbody tr th:only-of-type {\n",
       "        vertical-align: middle;\n",
       "    }\n",
       "\n",
       "    .dataframe tbody tr th {\n",
       "        vertical-align: top;\n",
       "    }\n",
       "\n",
       "    .dataframe thead th {\n",
       "        text-align: right;\n",
       "    }\n",
       "</style>\n",
       "<table border=\"1\" class=\"dataframe\">\n",
       "  <thead>\n",
       "    <tr style=\"text-align: right;\">\n",
       "      <th></th>\n",
       "      <th>MSE</th>\n",
       "      <th>MAE</th>\n",
       "      <th>R2</th>\n",
       "    </tr>\n",
       "  </thead>\n",
       "  <tbody>\n",
       "    <tr>\n",
       "      <th>baseline_1</th>\n",
       "      <td>9.554984</td>\n",
       "      <td>2.537486</td>\n",
       "      <td>-0.000019</td>\n",
       "    </tr>\n",
       "    <tr>\n",
       "      <th>baseline_2</th>\n",
       "      <td>9.036182</td>\n",
       "      <td>2.462820</td>\n",
       "      <td>0.054279</td>\n",
       "    </tr>\n",
       "    <tr>\n",
       "      <th>baseline_3</th>\n",
       "      <td>8.531853</td>\n",
       "      <td>2.375124</td>\n",
       "      <td>0.107061</td>\n",
       "    </tr>\n",
       "  </tbody>\n",
       "</table>\n",
       "</div>"
      ],
      "text/plain": [
       "                 MSE       MAE        R2\n",
       "baseline_1  9.554984  2.537486 -0.000019\n",
       "baseline_2  9.036182  2.462820  0.054279\n",
       "baseline_3  8.531853  2.375124  0.107061"
      ]
     },
     "execution_count": 20,
     "metadata": {},
     "output_type": "execute_result"
    }
   ],
   "source": [
    "baseline_summary"
   ]
  },
  {
   "cell_type": "code",
   "execution_count": 21,
   "metadata": {},
   "outputs": [],
   "source": [
    "#wine_reviews[wine_reviews.description.apply(lambda d: 'easydrinking' in d)].description.values"
   ]
  },
  {
   "cell_type": "code",
   "execution_count": 22,
   "metadata": {},
   "outputs": [],
   "source": [
    "#first try"
   ]
  },
  {
   "cell_type": "code",
   "execution_count": 23,
   "metadata": {},
   "outputs": [],
   "source": [
    "from sklearn.pipeline import Pipeline\n",
    "from sklearn.compose import ColumnTransformer\n",
    "from sklearn.impute import SimpleImputer\n",
    "from sklearn.preprocessing import StandardScaler, OneHotEncoder\n",
    "from sklearn.feature_extraction.text import TfidfVectorizer\n",
    "from sklearn.base import TransformerMixin\n",
    "from sklearn.neighbors import KNeighborsRegressor\n",
    "from sklearn.linear_model import LinearRegression\n",
    "from sklearn.ensemble import RandomForestRegressor\n",
    "from sklearn.metrics import mean_squared_error, mean_absolute_error, r2_score\n",
    "\n",
    "# Define the KNeighborsRegressorTransformer class\n",
    "class KNeighborsRegressorTransformer(KNeighborsRegressor, TransformerMixin):\n",
    "    def transform(self, X):\n",
    "        return self.predict(X)\n",
    "\n",
    "# Define categorical and numerical features\n",
    "categorical_features = ['country', 'province', 'region_1', 'taster_name', 'variety']\n",
    "numerical_features = ['price', 'year']\n",
    "des_feature = 'cleaned_descriptions'\n",
    "\n",
    "# Create transformers for categorical, numerical, and text features\n",
    "categorical_transformer = Pipeline(steps=[\n",
    "    ('imputer', SimpleImputer(strategy='constant', fill_value='missing')),\n",
    "    ('onehot', OneHotEncoder(handle_unknown='ignore'))\n",
    "])\n",
    "\n",
    "numerical_transformer = Pipeline(steps=[\n",
    "    ('imputer', SimpleImputer(strategy='mean')),\n",
    "    ('scaler', StandardScaler())\n",
    "])\n",
    "\n",
    "text_transformer = Pipeline(steps=[\n",
    "    ('tfidf', TfidfVectorizer())\n",
    "])\n",
    "\n",
    "# Combine transformers using ColumnTransformer\n",
    "preprocessor = ColumnTransformer(\n",
    "    transformers=[\n",
    "        ('cat', categorical_transformer, categorical_features),\n",
    "        ('num', numerical_transformer, numerical_features),\n",
    "        ('text', text_transformer, des_feature)\n",
    "    ])\n",
    "\n"
   ]
  },
  {
   "cell_type": "code",
   "execution_count": 24,
   "metadata": {},
   "outputs": [],
   "source": [
    "# Create the pipeline for KNN\n",
    "knn_pipeline = Pipeline(steps=[\n",
    "    ('preprocessor', preprocessor),\n",
    "    ('regressor', KNeighborsRegressorTransformer())\n",
    "])"
   ]
  },
  {
   "cell_type": "code",
   "execution_count": 25,
   "metadata": {},
   "outputs": [],
   "source": [
    "# Create the pipeline for Linear Regression\n",
    "linear_pipeline = Pipeline(steps=[\n",
    "    ('preprocessor', preprocessor),\n",
    "    ('regressor', LinearRegression())\n",
    "])"
   ]
  },
  {
   "cell_type": "code",
   "execution_count": 26,
   "metadata": {},
   "outputs": [],
   "source": [
    "# Create the pipeline for Random Forest\n",
    "rf_pipeline = Pipeline(steps=[\n",
    "    ('preprocessor', preprocessor),\n",
    "    ('regressor', RandomForestRegressor())\n",
    "])\n"
   ]
  },
  {
   "cell_type": "code",
   "execution_count": 27,
   "metadata": {},
   "outputs": [
    {
     "name": "stdout",
     "output_type": "stream",
     "text": [
      "KNN - MSE: 4.32, MAE: 1.61, R2: 0.55\n"
     ]
    }
   ],
   "source": [
    "# Fit the KNN pipeline on the training data\n",
    "knn_pipeline.fit(X_train, y_train)\n",
    "\n",
    "# Make predictions using the KNN pipeline\n",
    "knn_predictions = knn_pipeline.predict(X_test)\n",
    "\n",
    "# Calculate evaluation metrics for KNN\n",
    "knn_mse = mean_squared_error(y_test, knn_predictions)\n",
    "knn_mae = mean_absolute_error(y_test, knn_predictions)\n",
    "knn_r2 = r2_score(y_test, knn_predictions)\n",
    "print(\"KNN - MSE: {:.2f}, MAE: {:.2f}, R2: {:.2f}\".format(knn_mse, knn_mae, knn_r2))\n"
   ]
  },
  {
   "cell_type": "code",
   "execution_count": 28,
   "metadata": {},
   "outputs": [],
   "source": [
    "new_record = pd.DataFrame({\"MSE\": knn_mse, \"MAE\": knn_mae, \"R2\": knn_r2}, index=[\"KNN\"])\n",
    "baseline_summary = baseline_summary.append(new_record)"
   ]
  },
  {
   "cell_type": "code",
   "execution_count": 29,
   "metadata": {},
   "outputs": [
    {
     "data": {
      "text/html": [
       "<div>\n",
       "<style scoped>\n",
       "    .dataframe tbody tr th:only-of-type {\n",
       "        vertical-align: middle;\n",
       "    }\n",
       "\n",
       "    .dataframe tbody tr th {\n",
       "        vertical-align: top;\n",
       "    }\n",
       "\n",
       "    .dataframe thead th {\n",
       "        text-align: right;\n",
       "    }\n",
       "</style>\n",
       "<table border=\"1\" class=\"dataframe\">\n",
       "  <thead>\n",
       "    <tr style=\"text-align: right;\">\n",
       "      <th></th>\n",
       "      <th>MSE</th>\n",
       "      <th>MAE</th>\n",
       "      <th>R2</th>\n",
       "    </tr>\n",
       "  </thead>\n",
       "  <tbody>\n",
       "    <tr>\n",
       "      <th>baseline_1</th>\n",
       "      <td>9.554984</td>\n",
       "      <td>2.537486</td>\n",
       "      <td>-0.000019</td>\n",
       "    </tr>\n",
       "    <tr>\n",
       "      <th>baseline_2</th>\n",
       "      <td>9.036182</td>\n",
       "      <td>2.462820</td>\n",
       "      <td>0.054279</td>\n",
       "    </tr>\n",
       "    <tr>\n",
       "      <th>baseline_3</th>\n",
       "      <td>8.531853</td>\n",
       "      <td>2.375124</td>\n",
       "      <td>0.107061</td>\n",
       "    </tr>\n",
       "    <tr>\n",
       "      <th>KNN</th>\n",
       "      <td>4.315334</td>\n",
       "      <td>1.609426</td>\n",
       "      <td>0.546611</td>\n",
       "    </tr>\n",
       "  </tbody>\n",
       "</table>\n",
       "</div>"
      ],
      "text/plain": [
       "                 MSE       MAE        R2\n",
       "baseline_1  9.554984  2.537486 -0.000019\n",
       "baseline_2  9.036182  2.462820  0.054279\n",
       "baseline_3  8.531853  2.375124  0.107061\n",
       "KNN         4.315334  1.609426  0.546611"
      ]
     },
     "execution_count": 29,
     "metadata": {},
     "output_type": "execute_result"
    }
   ],
   "source": [
    "baseline_summary"
   ]
  },
  {
   "cell_type": "code",
   "execution_count": 30,
   "metadata": {},
   "outputs": [],
   "source": [
    "#KNN\t4.315334\t1.609426\t0.546611"
   ]
  },
  {
   "cell_type": "code",
   "execution_count": 31,
   "metadata": {},
   "outputs": [
    {
     "name": "stdout",
     "output_type": "stream",
     "text": [
      "Linear Regression - MSE: 3.39, MAE: 1.39, R2: 0.64\n"
     ]
    }
   ],
   "source": [
    "\n",
    "# Fit the Linear Regression pipeline on the training data\n",
    "linear_pipeline.fit(X_train, y_train)\n",
    "\n",
    "# Make predictions using the Linear Regression pipeline\n",
    "linear_predictions = linear_pipeline.predict(X_test)\n",
    "\n",
    "# Calculate evaluation metrics for Linear Regression\n",
    "linear_mse = mean_squared_error(y_test, linear_predictions)\n",
    "linear_mae = mean_absolute_error(y_test, linear_predictions)\n",
    "linear_r2 = r2_score(y_test, linear_predictions)\n",
    "\n",
    "print(\"Linear Regression - MSE: {:.2f}, MAE: {:.2f}, R2: {:.2f}\".format(linear_mse, linear_mae, linear_r2))\n"
   ]
  },
  {
   "cell_type": "code",
   "execution_count": 32,
   "metadata": {},
   "outputs": [],
   "source": [
    "#Linear Regression - MSE: 3.39, MAE: 1.39, R2: 0.64"
   ]
  },
  {
   "cell_type": "code",
   "execution_count": 33,
   "metadata": {},
   "outputs": [],
   "source": [
    "new_record = pd.DataFrame({\"MSE\": linear_mse, \"MAE\": linear_mae, \"R2\": linear_r2}, index=[\"Linear Regression\"])\n",
    "baseline_summary = baseline_summary.append(new_record)"
   ]
  },
  {
   "cell_type": "code",
   "execution_count": 34,
   "metadata": {},
   "outputs": [
    {
     "name": "stdout",
     "output_type": "stream",
     "text": [
      "Random Forest - MSE: 3.21, MAE: 1.39, R2: 0.66\n"
     ]
    }
   ],
   "source": [
    "# Fit the Random Forest pipeline on the training data\n",
    "rf_pipeline.fit(X_train, y_train)\n",
    "\n",
    "# Make predictions using the Random Forest pipeline\n",
    "rf_predictions = rf_pipeline.predict(X_test)\n",
    "\n",
    "# Calculate evaluation metrics for Random Forest\n",
    "rf_mse = mean_squared_error(y_test, rf_predictions)\n",
    "rf_mae = mean_absolute_error(y_test, rf_predictions)\n",
    "rf_r2 = r2_score(y_test, rf_predictions)\n",
    "\n",
    "# Print the evaluation metrics for each model\n",
    "print(\"Random Forest - MSE: {:.2f}, MAE: {:.2f}, R2: {:.2f}\".format(rf_mse, rf_mae, rf_r2))\n"
   ]
  },
  {
   "cell_type": "code",
   "execution_count": 35,
   "metadata": {},
   "outputs": [],
   "source": [
    "#Random Forest - MSE: 3.22, MAE: 1.39, R2: 0.66"
   ]
  },
  {
   "cell_type": "code",
   "execution_count": 41,
   "metadata": {},
   "outputs": [],
   "source": [
    "baseline_summary['MSE'] = baseline_summary['MSE'].round(2)\n",
    "baseline_summary['MAE'] = baseline_summary['MAE'].round(2)\n",
    "baseline_summary['R2'] = baseline_summary['R2'].round(2)"
   ]
  },
  {
   "cell_type": "code",
   "execution_count": 42,
   "metadata": {},
   "outputs": [
    {
     "data": {
      "text/html": [
       "<div>\n",
       "<style scoped>\n",
       "    .dataframe tbody tr th:only-of-type {\n",
       "        vertical-align: middle;\n",
       "    }\n",
       "\n",
       "    .dataframe tbody tr th {\n",
       "        vertical-align: top;\n",
       "    }\n",
       "\n",
       "    .dataframe thead th {\n",
       "        text-align: right;\n",
       "    }\n",
       "</style>\n",
       "<table border=\"1\" class=\"dataframe\">\n",
       "  <thead>\n",
       "    <tr style=\"text-align: right;\">\n",
       "      <th></th>\n",
       "      <th>MSE</th>\n",
       "      <th>MAE</th>\n",
       "      <th>R2</th>\n",
       "    </tr>\n",
       "  </thead>\n",
       "  <tbody>\n",
       "    <tr>\n",
       "      <th>baseline_1</th>\n",
       "      <td>9.55</td>\n",
       "      <td>2.54</td>\n",
       "      <td>-0.00</td>\n",
       "    </tr>\n",
       "    <tr>\n",
       "      <th>baseline_2</th>\n",
       "      <td>9.04</td>\n",
       "      <td>2.46</td>\n",
       "      <td>0.05</td>\n",
       "    </tr>\n",
       "    <tr>\n",
       "      <th>baseline_3</th>\n",
       "      <td>8.53</td>\n",
       "      <td>2.38</td>\n",
       "      <td>0.11</td>\n",
       "    </tr>\n",
       "    <tr>\n",
       "      <th>KNN</th>\n",
       "      <td>4.32</td>\n",
       "      <td>1.61</td>\n",
       "      <td>0.55</td>\n",
       "    </tr>\n",
       "    <tr>\n",
       "      <th>Linear Regression</th>\n",
       "      <td>3.39</td>\n",
       "      <td>1.39</td>\n",
       "      <td>0.64</td>\n",
       "    </tr>\n",
       "    <tr>\n",
       "      <th>Random Forest</th>\n",
       "      <td>3.21</td>\n",
       "      <td>1.39</td>\n",
       "      <td>0.66</td>\n",
       "    </tr>\n",
       "  </tbody>\n",
       "</table>\n",
       "</div>"
      ],
      "text/plain": [
       "                    MSE   MAE    R2\n",
       "baseline_1         9.55  2.54 -0.00\n",
       "baseline_2         9.04  2.46  0.05\n",
       "baseline_3         8.53  2.38  0.11\n",
       "KNN                4.32  1.61  0.55\n",
       "Linear Regression  3.39  1.39  0.64\n",
       "Random Forest      3.21  1.39  0.66"
      ]
     },
     "execution_count": 42,
     "metadata": {},
     "output_type": "execute_result"
    }
   ],
   "source": [
    "baseline_summary"
   ]
  },
  {
   "cell_type": "code",
   "execution_count": 44,
   "metadata": {},
   "outputs": [],
   "source": [
    "summary = baseline_summary"
   ]
  },
  {
   "cell_type": "code",
   "execution_count": 45,
   "metadata": {},
   "outputs": [
    {
     "data": {
      "text/html": [
       "<div>\n",
       "<style scoped>\n",
       "    .dataframe tbody tr th:only-of-type {\n",
       "        vertical-align: middle;\n",
       "    }\n",
       "\n",
       "    .dataframe tbody tr th {\n",
       "        vertical-align: top;\n",
       "    }\n",
       "\n",
       "    .dataframe thead th {\n",
       "        text-align: right;\n",
       "    }\n",
       "</style>\n",
       "<table border=\"1\" class=\"dataframe\">\n",
       "  <thead>\n",
       "    <tr style=\"text-align: right;\">\n",
       "      <th></th>\n",
       "      <th>MSE</th>\n",
       "      <th>MAE</th>\n",
       "      <th>R2</th>\n",
       "    </tr>\n",
       "  </thead>\n",
       "  <tbody>\n",
       "    <tr>\n",
       "      <th>baseline_1</th>\n",
       "      <td>9.55</td>\n",
       "      <td>2.54</td>\n",
       "      <td>-0.00</td>\n",
       "    </tr>\n",
       "    <tr>\n",
       "      <th>baseline_2</th>\n",
       "      <td>9.04</td>\n",
       "      <td>2.46</td>\n",
       "      <td>0.05</td>\n",
       "    </tr>\n",
       "    <tr>\n",
       "      <th>baseline_3</th>\n",
       "      <td>8.53</td>\n",
       "      <td>2.38</td>\n",
       "      <td>0.11</td>\n",
       "    </tr>\n",
       "    <tr>\n",
       "      <th>KNN</th>\n",
       "      <td>4.32</td>\n",
       "      <td>1.61</td>\n",
       "      <td>0.55</td>\n",
       "    </tr>\n",
       "    <tr>\n",
       "      <th>Linear Regression</th>\n",
       "      <td>3.39</td>\n",
       "      <td>1.39</td>\n",
       "      <td>0.64</td>\n",
       "    </tr>\n",
       "    <tr>\n",
       "      <th>Random Forest</th>\n",
       "      <td>3.21</td>\n",
       "      <td>1.39</td>\n",
       "      <td>0.66</td>\n",
       "    </tr>\n",
       "  </tbody>\n",
       "</table>\n",
       "</div>"
      ],
      "text/plain": [
       "                    MSE   MAE    R2\n",
       "baseline_1         9.55  2.54 -0.00\n",
       "baseline_2         9.04  2.46  0.05\n",
       "baseline_3         8.53  2.38  0.11\n",
       "KNN                4.32  1.61  0.55\n",
       "Linear Regression  3.39  1.39  0.64\n",
       "Random Forest      3.21  1.39  0.66"
      ]
     },
     "execution_count": 45,
     "metadata": {},
     "output_type": "execute_result"
    }
   ],
   "source": [
    "summary"
   ]
  },
  {
   "cell_type": "raw",
   "metadata": {},
   "source": [
    "Deep Learning"
   ]
  },
  {
   "cell_type": "code",
   "execution_count": 46,
   "metadata": {},
   "outputs": [],
   "source": [
    "from tensorflow.keras.models import Model\n",
    "from tensorflow.keras.layers import Input, Dense, Embedding, Flatten\n",
    "from tensorflow.keras.optimizers import Adam\n",
    "from sklearn.model_selection import train_test_split\n",
    "from tensorflow.keras.preprocessing.text import Tokenizer\n",
    "from tensorflow.keras.preprocessing.sequence import pad_sequences\n",
    "import numpy as np\n",
    "import pandas as pd\n",
    "from sklearn.metrics import mean_squared_error, mean_absolute_error, r2_score"
   ]
  },
  {
   "cell_type": "code",
   "execution_count": 47,
   "metadata": {},
   "outputs": [
    {
     "name": "stdout",
     "output_type": "stream",
     "text": [
      "Epoch 1/10\n",
      "2992/2992 [==============================] - 38s 12ms/step - loss: 90.8032 - val_loss: 34.6336\n",
      "Epoch 2/10\n",
      "2992/2992 [==============================] - 42s 14ms/step - loss: 30.6907 - val_loss: 30.6457\n",
      "Epoch 3/10\n",
      "2992/2992 [==============================] - 41s 14ms/step - loss: 23.7535 - val_loss: 26.7931\n",
      "Epoch 4/10\n",
      "2992/2992 [==============================] - 37s 12ms/step - loss: 18.4464 - val_loss: 19.6573\n",
      "Epoch 5/10\n",
      "2992/2992 [==============================] - 37s 12ms/step - loss: 14.7612 - val_loss: 19.4890\n",
      "Epoch 6/10\n",
      "2992/2992 [==============================] - 37s 13ms/step - loss: 11.9814 - val_loss: 15.3946\n",
      "Epoch 7/10\n",
      "2992/2992 [==============================] - 44s 15ms/step - loss: 10.0274 - val_loss: 14.6053\n",
      "Epoch 8/10\n",
      "2992/2992 [==============================] - 39s 13ms/step - loss: 8.5994 - val_loss: 11.3949\n",
      "Epoch 9/10\n",
      "2992/2992 [==============================] - 39s 13ms/step - loss: 7.4116 - val_loss: 10.5182\n",
      "Epoch 10/10\n",
      "2992/2992 [==============================] - 36s 12ms/step - loss: 6.4766 - val_loss: 9.5835\n",
      "748/748 [==============================] - 3s 4ms/step\n",
      "MSE: 9.583482696713265\n",
      "MAE: 2.447322100241554\n",
      "R2 Score: -0.012199713563900927\n"
     ]
    }
   ],
   "source": [
    "\n",
    "\n",
    "# Preprocessing\n",
    "X = wine_reviews_analysis['cleaned_descriptions'].copy()\n",
    "y = wine_reviews_analysis['points'].copy()\n",
    "\n",
    "# Tokenize and convert textual features to numerical sequences\n",
    "max_words = 1000  # Maximum number of words to consider\n",
    "tokenizer = Tokenizer(num_words=max_words)\n",
    "tokenizer.fit_on_texts(X)\n",
    "X_text1 = tokenizer.texts_to_sequences(X)\n",
    "\n",
    "max_seq_length = max(len(seq) for seq in X_text1)\n",
    "\n",
    "X_text1 = pad_sequences(X_text1, maxlen=max_seq_length)\n",
    "\n",
    "# Load pre-trained GloVe embeddings\n",
    "embedding_path = \"C:/Users/or.nagari/Python_ML_2023/glove100.txt\"\n",
    "\n",
    "embedding_dim = 100  # Adjust the embedding dimension based on the pre-trained embedding\n",
    "\n",
    "embedding_index = {}\n",
    "with open(embedding_path, encoding='utf-8') as f:\n",
    "    for line in f:\n",
    "        values = line.split()\n",
    "        word = values[0]\n",
    "        embedding = np.asarray(values[1:], dtype='float32')\n",
    "        embedding_index[word] = embedding\n",
    "\n",
    "# Create word-to-index mapping\n",
    "word_index = tokenizer.word_index\n",
    "\n",
    "# Prepare the embedding matrix\n",
    "num_words = min(max_words, len(word_index) + 1)\n",
    "embedding_matrix = np.zeros((num_words, embedding_dim))\n",
    "for word, i in word_index.items():\n",
    "    if i >= max_words:\n",
    "        continue\n",
    "    embedding_vector = embedding_index.get(word)\n",
    "    if embedding_vector is not None:\n",
    "        embedding_matrix[i] = embedding_vector\n",
    "\n",
    "# Split the data into training and testing sets\n",
    "X_train_text1, X_test_text1, y_train, y_test = train_test_split(X_text1, y, test_size=0.2, random_state=42)\n",
    "\n",
    "# Define the model\n",
    "text_input_1 = Input(shape=(max_seq_length,))\n",
    "embedding_1 = Embedding(input_dim=num_words, output_dim=embedding_dim, weights=[embedding_matrix], trainable=False)(text_input_1)\n",
    "flatten_1 = Flatten()(embedding_1)\n",
    "x = Dense(64, activation='relu')(flatten_1)\n",
    "x = Dense(32, activation='relu')(x)\n",
    "output = Dense(1, activation='linear')(x)\n",
    "\n",
    "model = Model(inputs=[text_input_1], outputs=output)\n",
    "\n",
    "# Compile the model\n",
    "model.compile(optimizer=Adam(learning_rate=0.001),\n",
    "              loss='mean_squared_error')\n",
    "\n",
    "# Train the model\n",
    "model.fit([X_train_text1], y_train,\n",
    "          batch_size=32,\n",
    "          epochs=10,\n",
    "          validation_data=([X_test_text1], y_test))\n",
    "\n",
    "# Evaluate the model\n",
    "predictions = model.predict([X_test_text1])\n",
    "\n",
    "mse = mean_squared_error(y_test, predictions)\n",
    "mae = mean_absolute_error(y_test, predictions)\n",
    "r2 = r2_score(y_test, predictions)\n",
    "\n",
    "print('MSE:', mse)\n",
    "print('MAE:', mae)\n",
    "print('R2 Score:', r2)\n"
   ]
  },
  {
   "cell_type": "code",
   "execution_count": 48,
   "metadata": {},
   "outputs": [],
   "source": [
    "new_record = pd.DataFrame({\"MSE\": mse, \"MAE\": mae, \"R2\": r2}, index=[\"pre-trained-Glove\"])\n",
    "summary = summary.append(new_record)"
   ]
  },
  {
   "cell_type": "code",
   "execution_count": 49,
   "metadata": {},
   "outputs": [
    {
     "name": "stdout",
     "output_type": "stream",
     "text": [
      "Percentage of words without embeddings: 45 %\n"
     ]
    }
   ],
   "source": [
    "# Assuming you have a word_index and embedding_index\n",
    "\n",
    "missing_words = []\n",
    "total_words = len(word_index)\n",
    "\n",
    "# Iterate over word_index and check for embeddings\n",
    "for word, i in word_index.items():\n",
    "    if word not in embedding_index:\n",
    "        missing_words.append(word)\n",
    "\n",
    "num_missing_words = len(missing_words)\n",
    "percentage_missing = (num_missing_words / total_words) * 100\n",
    "\n",
    "print(\"Percentage of words without embeddings:\", round(percentage_missing),'%')"
   ]
  },
  {
   "cell_type": "code",
   "execution_count": 50,
   "metadata": {},
   "outputs": [
    {
     "data": {
      "text/plain": [
       "['fullbodied',\n",
       " 'mediumbodied',\n",
       " 'midpalate',\n",
       " 'offdry',\n",
       " 'finegrained',\n",
       " 'blackfruit',\n",
       " 'winerys',\n",
       " 'easydrinking',\n",
       " 'screwcap',\n",
       " 'lightbodied']"
      ]
     },
     "execution_count": 50,
     "metadata": {},
     "output_type": "execute_result"
    }
   ],
   "source": [
    "missing_words[:10]"
   ]
  },
  {
   "cell_type": "code",
   "execution_count": 51,
   "metadata": {},
   "outputs": [
    {
     "name": "stdout",
     "output_type": "stream",
     "text": [
      "Epoch 1/10\n",
      "2992/2992 [==============================] - 16s 5ms/step - loss: 120.1820 - val_loss: 4.1832\n",
      "Epoch 2/10\n",
      "2992/2992 [==============================] - 14s 5ms/step - loss: 4.0598 - val_loss: 3.8193\n",
      "Epoch 3/10\n",
      "2992/2992 [==============================] - 15s 5ms/step - loss: 3.9468 - val_loss: 3.9019\n",
      "Epoch 4/10\n",
      "2992/2992 [==============================] - 13s 4ms/step - loss: 3.8699 - val_loss: 4.2136\n",
      "Epoch 5/10\n",
      "2992/2992 [==============================] - 13s 4ms/step - loss: 3.7320 - val_loss: 3.8141\n",
      "Epoch 6/10\n",
      "2992/2992 [==============================] - 13s 4ms/step - loss: 3.7091 - val_loss: 4.0497\n",
      "Epoch 7/10\n",
      "2992/2992 [==============================] - 14s 5ms/step - loss: 3.6290 - val_loss: 4.0448\n",
      "Epoch 8/10\n",
      "2992/2992 [==============================] - 15s 5ms/step - loss: 3.5881 - val_loss: 3.9269\n",
      "Epoch 9/10\n",
      "2992/2992 [==============================] - 13s 4ms/step - loss: 3.6084 - val_loss: 6.4989\n",
      "Epoch 10/10\n",
      "2992/2992 [==============================] - 14s 5ms/step - loss: 3.5240 - val_loss: 3.9088\n",
      "748/748 [==============================] - 2s 2ms/step\n",
      "MSE: 3.9087960956959606\n",
      "MAE: 1.5566126184667495\n",
      "R2 Score: 0.5871561087286092\n"
     ]
    }
   ],
   "source": [
    "\n",
    "\n",
    "\n",
    "\n",
    "# Preprocessing\n",
    "X = wine_reviews_analysis['cleaned_descriptions'].copy()\n",
    "y = wine_reviews_analysis['points'].copy()\n",
    "\n",
    "# Tokenize and convert textual features to numerical sequences\n",
    "max_words = 1000  # Maximum number of words to consider\n",
    "tokenizer = Tokenizer(num_words=max_words)\n",
    "tokenizer.fit_on_texts(X)\n",
    "X_text1 = tokenizer.texts_to_sequences(X)\n",
    "\n",
    "max_seq_length = max(len(seq) for seq in X_text1)\n",
    "\n",
    "X_text1 = pad_sequences(X_text1, maxlen=max_seq_length)\n",
    "\n",
    "# Split the data into training and testing sets\n",
    "X_train_text1, X_test_text1, y_train, y_test = train_test_split(X_text1, y, test_size=0.2, random_state=42)\n",
    "\n",
    "# Define the model\n",
    "text_input_1 = Input(shape=(max_seq_length,))\n",
    "embedding_dim = 16\n",
    "embedding_1 = Embedding(input_dim=max_words, output_dim=embedding_dim)(text_input_1)\n",
    "flatten_1 = Flatten()(embedding_1)\n",
    "x = Dense(64, activation='relu')(flatten_1)\n",
    "x = Dense(32, activation='relu')(x)\n",
    "output = Dense(1, activation='linear')(x)\n",
    "\n",
    "model = Model(inputs=[text_input_1], outputs=output)\n",
    "\n",
    "# Compile the model\n",
    "model.compile(optimizer=Adam(learning_rate=0.001),\n",
    "              loss='mean_squared_error')\n",
    "\n",
    "# Train the model\n",
    "model.fit([X_train_text1], y_train,\n",
    "          batch_size=32,\n",
    "          epochs=10,\n",
    "          validation_data=([X_test_text1], y_test))\n",
    "\n",
    "# Evaluate the model\n",
    "predictions = model.predict([X_test_text1])\n",
    "\n",
    "mse = mean_squared_error(y_test, predictions)\n",
    "mae = mean_absolute_error(y_test, predictions)\n",
    "r2 = r2_score(y_test, predictions)\n",
    "\n",
    "print('MSE:', mse)\n",
    "print('MAE:', mae)\n",
    "print('R2 Score:', r2)\n"
   ]
  },
  {
   "cell_type": "code",
   "execution_count": 52,
   "metadata": {},
   "outputs": [],
   "source": [
    "new_record = pd.DataFrame({\"MSE\": mse, \"MAE\": mae, \"R2\": r2}, index=[\"not_trained\"])\n",
    "summary = summary.append(new_record)"
   ]
  },
  {
   "cell_type": "code",
   "execution_count": 55,
   "metadata": {},
   "outputs": [],
   "source": [
    "summary['MSE'] = summary['MSE'].round(2)\n",
    "summary['MAE'] = summary['MAE'].round(2)\n",
    "summary['R2'] = summary['R2'].round(2)"
   ]
  },
  {
   "cell_type": "code",
   "execution_count": 56,
   "metadata": {},
   "outputs": [
    {
     "data": {
      "text/html": [
       "<div>\n",
       "<style scoped>\n",
       "    .dataframe tbody tr th:only-of-type {\n",
       "        vertical-align: middle;\n",
       "    }\n",
       "\n",
       "    .dataframe tbody tr th {\n",
       "        vertical-align: top;\n",
       "    }\n",
       "\n",
       "    .dataframe thead th {\n",
       "        text-align: right;\n",
       "    }\n",
       "</style>\n",
       "<table border=\"1\" class=\"dataframe\">\n",
       "  <thead>\n",
       "    <tr style=\"text-align: right;\">\n",
       "      <th></th>\n",
       "      <th>MSE</th>\n",
       "      <th>MAE</th>\n",
       "      <th>R2</th>\n",
       "    </tr>\n",
       "  </thead>\n",
       "  <tbody>\n",
       "    <tr>\n",
       "      <th>baseline_1</th>\n",
       "      <td>9.55</td>\n",
       "      <td>2.54</td>\n",
       "      <td>-0.00</td>\n",
       "    </tr>\n",
       "    <tr>\n",
       "      <th>baseline_2</th>\n",
       "      <td>9.04</td>\n",
       "      <td>2.46</td>\n",
       "      <td>0.05</td>\n",
       "    </tr>\n",
       "    <tr>\n",
       "      <th>baseline_3</th>\n",
       "      <td>8.53</td>\n",
       "      <td>2.38</td>\n",
       "      <td>0.11</td>\n",
       "    </tr>\n",
       "    <tr>\n",
       "      <th>KNN</th>\n",
       "      <td>4.32</td>\n",
       "      <td>1.61</td>\n",
       "      <td>0.55</td>\n",
       "    </tr>\n",
       "    <tr>\n",
       "      <th>Linear Regression</th>\n",
       "      <td>3.39</td>\n",
       "      <td>1.39</td>\n",
       "      <td>0.64</td>\n",
       "    </tr>\n",
       "    <tr>\n",
       "      <th>Random Forest</th>\n",
       "      <td>3.21</td>\n",
       "      <td>1.39</td>\n",
       "      <td>0.66</td>\n",
       "    </tr>\n",
       "    <tr>\n",
       "      <th>pre-trained-Glove</th>\n",
       "      <td>9.58</td>\n",
       "      <td>2.45</td>\n",
       "      <td>-0.01</td>\n",
       "    </tr>\n",
       "    <tr>\n",
       "      <th>not_trained</th>\n",
       "      <td>3.91</td>\n",
       "      <td>1.56</td>\n",
       "      <td>0.59</td>\n",
       "    </tr>\n",
       "  </tbody>\n",
       "</table>\n",
       "</div>"
      ],
      "text/plain": [
       "                    MSE   MAE    R2\n",
       "baseline_1         9.55  2.54 -0.00\n",
       "baseline_2         9.04  2.46  0.05\n",
       "baseline_3         8.53  2.38  0.11\n",
       "KNN                4.32  1.61  0.55\n",
       "Linear Regression  3.39  1.39  0.64\n",
       "Random Forest      3.21  1.39  0.66\n",
       "pre-trained-Glove  9.58  2.45 -0.01\n",
       "not_trained        3.91  1.56  0.59"
      ]
     },
     "execution_count": 56,
     "metadata": {},
     "output_type": "execute_result"
    }
   ],
   "source": [
    "summary"
   ]
  },
  {
   "cell_type": "code",
   "execution_count": null,
   "metadata": {},
   "outputs": [],
   "source": []
  }
 ],
 "metadata": {
  "kernelspec": {
   "display_name": "Python 3 (ipykernel)",
   "language": "python",
   "name": "python3"
  },
  "language_info": {
   "codemirror_mode": {
    "name": "ipython",
    "version": 3
   },
   "file_extension": ".py",
   "mimetype": "text/x-python",
   "name": "python",
   "nbconvert_exporter": "python",
   "pygments_lexer": "ipython3",
   "version": "3.9.13"
  }
 },
 "nbformat": 4,
 "nbformat_minor": 4
}
